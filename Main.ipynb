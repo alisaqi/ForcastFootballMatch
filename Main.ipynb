{
 "cells": [
  {
   "cell_type": "code",
   "execution_count": 343,
   "id": "0fe613fb",
   "metadata": {},
   "outputs": [],
   "source": [
    "import pandas as pd"
   ]
  },
  {
   "cell_type": "code",
   "execution_count": 344,
   "id": "f0361466",
   "metadata": {},
   "outputs": [],
   "source": [
    "df = pd.read_csv('train.csv')"
   ]
  },
  {
   "cell_type": "code",
   "execution_count": 345,
   "id": "ef565ab2",
   "metadata": {},
   "outputs": [
    {
     "data": {
      "text/html": [
       "<div>\n",
       "<style scoped>\n",
       "    .dataframe tbody tr th:only-of-type {\n",
       "        vertical-align: middle;\n",
       "    }\n",
       "\n",
       "    .dataframe tbody tr th {\n",
       "        vertical-align: top;\n",
       "    }\n",
       "\n",
       "    .dataframe thead th {\n",
       "        text-align: right;\n",
       "    }\n",
       "</style>\n",
       "<table border=\"1\" class=\"dataframe\">\n",
       "  <thead>\n",
       "    <tr style=\"text-align: right;\">\n",
       "      <th></th>\n",
       "      <th>matchId</th>\n",
       "      <th>playerId</th>\n",
       "      <th>playType</th>\n",
       "      <th>bodyPart</th>\n",
       "      <th>x</th>\n",
       "      <th>y</th>\n",
       "      <th>interveningOpponents</th>\n",
       "      <th>interveningTeammates</th>\n",
       "      <th>interferenceOnShooter</th>\n",
       "      <th>minute</th>\n",
       "      <th>second</th>\n",
       "      <th>outcome</th>\n",
       "    </tr>\n",
       "  </thead>\n",
       "  <tbody>\n",
       "    <tr>\n",
       "      <th>0</th>\n",
       "      <td>m_91</td>\n",
       "      <td>p_103</td>\n",
       "      <td>جریان بازی</td>\n",
       "      <td>پای راست</td>\n",
       "      <td>13.47</td>\n",
       "      <td>-11.22</td>\n",
       "      <td>1</td>\n",
       "      <td>0</td>\n",
       "      <td>متوسط</td>\n",
       "      <td>70</td>\n",
       "      <td>9</td>\n",
       "      <td>گُل</td>\n",
       "    </tr>\n",
       "    <tr>\n",
       "      <th>1</th>\n",
       "      <td>m_17</td>\n",
       "      <td>p_16</td>\n",
       "      <td>جریان بازی</td>\n",
       "      <td>پای چپ</td>\n",
       "      <td>9.48</td>\n",
       "      <td>14.22</td>\n",
       "      <td>3</td>\n",
       "      <td>0</td>\n",
       "      <td>متوسط</td>\n",
       "      <td>55</td>\n",
       "      <td>4</td>\n",
       "      <td>مهار توسط دروازه بان</td>\n",
       "    </tr>\n",
       "    <tr>\n",
       "      <th>2</th>\n",
       "      <td>m_111</td>\n",
       "      <td>p_88</td>\n",
       "      <td>ضربه آزاد مستقیم</td>\n",
       "      <td>پای چپ</td>\n",
       "      <td>29.43</td>\n",
       "      <td>-1.25</td>\n",
       "      <td>6</td>\n",
       "      <td>2</td>\n",
       "      <td>کم</td>\n",
       "      <td>86</td>\n",
       "      <td>31</td>\n",
       "      <td>مهار توسط دروازه بان</td>\n",
       "    </tr>\n",
       "    <tr>\n",
       "      <th>3</th>\n",
       "      <td>m_142</td>\n",
       "      <td>p_87</td>\n",
       "      <td>جریان بازی</td>\n",
       "      <td>پای راست</td>\n",
       "      <td>26.93</td>\n",
       "      <td>1.00</td>\n",
       "      <td>4</td>\n",
       "      <td>1</td>\n",
       "      <td>متوسط</td>\n",
       "      <td>77</td>\n",
       "      <td>2</td>\n",
       "      <td>موقعیت از دست رفته</td>\n",
       "    </tr>\n",
       "    <tr>\n",
       "      <th>4</th>\n",
       "      <td>m_117</td>\n",
       "      <td>p_9</td>\n",
       "      <td>جریان بازی</td>\n",
       "      <td>پای راست</td>\n",
       "      <td>10.72</td>\n",
       "      <td>5.24</td>\n",
       "      <td>2</td>\n",
       "      <td>0</td>\n",
       "      <td>متوسط</td>\n",
       "      <td>76</td>\n",
       "      <td>46</td>\n",
       "      <td>گُل</td>\n",
       "    </tr>\n",
       "  </tbody>\n",
       "</table>\n",
       "</div>"
      ],
      "text/plain": [
       "  matchId playerId          playType  bodyPart      x      y  \\\n",
       "0    m_91    p_103        جریان بازی  پای راست  13.47 -11.22   \n",
       "1    m_17     p_16        جریان بازی    پای چپ   9.48  14.22   \n",
       "2   m_111     p_88  ضربه آزاد مستقیم    پای چپ  29.43  -1.25   \n",
       "3   m_142     p_87        جریان بازی  پای راست  26.93   1.00   \n",
       "4   m_117      p_9        جریان بازی  پای راست  10.72   5.24   \n",
       "\n",
       "   interveningOpponents  interveningTeammates interferenceOnShooter  minute  \\\n",
       "0                     1                     0                 متوسط      70   \n",
       "1                     3                     0                 متوسط      55   \n",
       "2                     6                     2                    کم      86   \n",
       "3                     4                     1                 متوسط      77   \n",
       "4                     2                     0                 متوسط      76   \n",
       "\n",
       "   second               outcome  \n",
       "0       9                   گُل  \n",
       "1       4  مهار توسط دروازه بان  \n",
       "2      31  مهار توسط دروازه بان  \n",
       "3       2    موقعیت از دست رفته  \n",
       "4      46                   گُل  "
      ]
     },
     "execution_count": 345,
     "metadata": {},
     "output_type": "execute_result"
    }
   ],
   "source": [
    "df.head()"
   ]
  },
  {
   "cell_type": "code",
   "execution_count": 346,
   "id": "2df9fa1a",
   "metadata": {},
   "outputs": [],
   "source": [
    "from math import dist\n",
    "get_distance = lambda row: dist((0,0),(row.x,row.y))\n",
    "\n",
    "df['distance'] = df.apply(get_distance , axis=1)"
   ]
  },
  {
   "cell_type": "markdown",
   "id": "a7872c5c",
   "metadata": {},
   "source": [
    "# prediction\n"
   ]
  },
  {
   "cell_type": "markdown",
   "id": "371f2fcd",
   "metadata": {},
   "source": [
    "- Here we change \"گل\" string which shows if player scored a goal by his/her shoot, to 0 or 1 . 1 for goal and 0 for No-goal"
   ]
  },
  {
   "cell_type": "code",
   "execution_count": 347,
   "id": "7c130ace",
   "metadata": {},
   "outputs": [],
   "source": [
    "GOAL = 'گُل'\n",
    "\n",
    "df['target'] = 0\n",
    "df.loc[df.outcome == GOAL,'target'] = 1"
   ]
  },
  {
   "cell_type": "code",
   "execution_count": 348,
   "id": "3a10ca7f",
   "metadata": {
    "scrolled": false
   },
   "outputs": [
    {
     "data": {
      "text/html": [
       "<div>\n",
       "<style scoped>\n",
       "    .dataframe tbody tr th:only-of-type {\n",
       "        vertical-align: middle;\n",
       "    }\n",
       "\n",
       "    .dataframe tbody tr th {\n",
       "        vertical-align: top;\n",
       "    }\n",
       "\n",
       "    .dataframe thead th {\n",
       "        text-align: right;\n",
       "    }\n",
       "</style>\n",
       "<table border=\"1\" class=\"dataframe\">\n",
       "  <thead>\n",
       "    <tr style=\"text-align: right;\">\n",
       "      <th></th>\n",
       "      <th>matchId</th>\n",
       "      <th>playerId</th>\n",
       "      <th>playType</th>\n",
       "      <th>bodyPart</th>\n",
       "      <th>x</th>\n",
       "      <th>y</th>\n",
       "      <th>interveningOpponents</th>\n",
       "      <th>interveningTeammates</th>\n",
       "      <th>interferenceOnShooter</th>\n",
       "      <th>minute</th>\n",
       "      <th>second</th>\n",
       "      <th>outcome</th>\n",
       "      <th>distance</th>\n",
       "      <th>target</th>\n",
       "    </tr>\n",
       "  </thead>\n",
       "  <tbody>\n",
       "    <tr>\n",
       "      <th>0</th>\n",
       "      <td>m_91</td>\n",
       "      <td>p_103</td>\n",
       "      <td>جریان بازی</td>\n",
       "      <td>پای راست</td>\n",
       "      <td>13.47</td>\n",
       "      <td>-11.22</td>\n",
       "      <td>1</td>\n",
       "      <td>0</td>\n",
       "      <td>متوسط</td>\n",
       "      <td>70</td>\n",
       "      <td>9</td>\n",
       "      <td>گُل</td>\n",
       "      <td>17.530810</td>\n",
       "      <td>1</td>\n",
       "    </tr>\n",
       "    <tr>\n",
       "      <th>1</th>\n",
       "      <td>m_17</td>\n",
       "      <td>p_16</td>\n",
       "      <td>جریان بازی</td>\n",
       "      <td>پای چپ</td>\n",
       "      <td>9.48</td>\n",
       "      <td>14.22</td>\n",
       "      <td>3</td>\n",
       "      <td>0</td>\n",
       "      <td>متوسط</td>\n",
       "      <td>55</td>\n",
       "      <td>4</td>\n",
       "      <td>مهار توسط دروازه بان</td>\n",
       "      <td>17.090313</td>\n",
       "      <td>0</td>\n",
       "    </tr>\n",
       "    <tr>\n",
       "      <th>2</th>\n",
       "      <td>m_111</td>\n",
       "      <td>p_88</td>\n",
       "      <td>ضربه آزاد مستقیم</td>\n",
       "      <td>پای چپ</td>\n",
       "      <td>29.43</td>\n",
       "      <td>-1.25</td>\n",
       "      <td>6</td>\n",
       "      <td>2</td>\n",
       "      <td>کم</td>\n",
       "      <td>86</td>\n",
       "      <td>31</td>\n",
       "      <td>مهار توسط دروازه بان</td>\n",
       "      <td>29.456534</td>\n",
       "      <td>0</td>\n",
       "    </tr>\n",
       "    <tr>\n",
       "      <th>3</th>\n",
       "      <td>m_142</td>\n",
       "      <td>p_87</td>\n",
       "      <td>جریان بازی</td>\n",
       "      <td>پای راست</td>\n",
       "      <td>26.93</td>\n",
       "      <td>1.00</td>\n",
       "      <td>4</td>\n",
       "      <td>1</td>\n",
       "      <td>متوسط</td>\n",
       "      <td>77</td>\n",
       "      <td>2</td>\n",
       "      <td>موقعیت از دست رفته</td>\n",
       "      <td>26.948560</td>\n",
       "      <td>0</td>\n",
       "    </tr>\n",
       "    <tr>\n",
       "      <th>4</th>\n",
       "      <td>m_117</td>\n",
       "      <td>p_9</td>\n",
       "      <td>جریان بازی</td>\n",
       "      <td>پای راست</td>\n",
       "      <td>10.72</td>\n",
       "      <td>5.24</td>\n",
       "      <td>2</td>\n",
       "      <td>0</td>\n",
       "      <td>متوسط</td>\n",
       "      <td>76</td>\n",
       "      <td>46</td>\n",
       "      <td>گُل</td>\n",
       "      <td>11.932141</td>\n",
       "      <td>1</td>\n",
       "    </tr>\n",
       "    <tr>\n",
       "      <th>...</th>\n",
       "      <td>...</td>\n",
       "      <td>...</td>\n",
       "      <td>...</td>\n",
       "      <td>...</td>\n",
       "      <td>...</td>\n",
       "      <td>...</td>\n",
       "      <td>...</td>\n",
       "      <td>...</td>\n",
       "      <td>...</td>\n",
       "      <td>...</td>\n",
       "      <td>...</td>\n",
       "      <td>...</td>\n",
       "      <td>...</td>\n",
       "      <td>...</td>\n",
       "    </tr>\n",
       "    <tr>\n",
       "      <th>8920</th>\n",
       "      <td>m_57</td>\n",
       "      <td>p_115</td>\n",
       "      <td>جریان بازی</td>\n",
       "      <td>سر</td>\n",
       "      <td>6.48</td>\n",
       "      <td>3.99</td>\n",
       "      <td>3</td>\n",
       "      <td>0</td>\n",
       "      <td>زیاد</td>\n",
       "      <td>69</td>\n",
       "      <td>50</td>\n",
       "      <td>موقعیت از دست رفته</td>\n",
       "      <td>7.609895</td>\n",
       "      <td>0</td>\n",
       "    </tr>\n",
       "    <tr>\n",
       "      <th>8921</th>\n",
       "      <td>m_59</td>\n",
       "      <td>p_76</td>\n",
       "      <td>جریان بازی</td>\n",
       "      <td>پای راست</td>\n",
       "      <td>21.45</td>\n",
       "      <td>-8.73</td>\n",
       "      <td>4</td>\n",
       "      <td>1</td>\n",
       "      <td>متوسط</td>\n",
       "      <td>15</td>\n",
       "      <td>53</td>\n",
       "      <td>برخورد به دفاع</td>\n",
       "      <td>23.158484</td>\n",
       "      <td>0</td>\n",
       "    </tr>\n",
       "    <tr>\n",
       "      <th>8922</th>\n",
       "      <td>m_55</td>\n",
       "      <td>p_150</td>\n",
       "      <td>جریان بازی</td>\n",
       "      <td>پای چپ</td>\n",
       "      <td>11.97</td>\n",
       "      <td>3.24</td>\n",
       "      <td>3</td>\n",
       "      <td>0</td>\n",
       "      <td>متوسط</td>\n",
       "      <td>84</td>\n",
       "      <td>34</td>\n",
       "      <td>موقعیت از دست رفته</td>\n",
       "      <td>12.400746</td>\n",
       "      <td>0</td>\n",
       "    </tr>\n",
       "    <tr>\n",
       "      <th>8923</th>\n",
       "      <td>m_33</td>\n",
       "      <td>p_130</td>\n",
       "      <td>جریان بازی</td>\n",
       "      <td>پای راست</td>\n",
       "      <td>6.48</td>\n",
       "      <td>-6.98</td>\n",
       "      <td>1</td>\n",
       "      <td>0</td>\n",
       "      <td>زیاد</td>\n",
       "      <td>4</td>\n",
       "      <td>39</td>\n",
       "      <td>موقعیت از دست رفته</td>\n",
       "      <td>9.524222</td>\n",
       "      <td>0</td>\n",
       "    </tr>\n",
       "    <tr>\n",
       "      <th>8924</th>\n",
       "      <td>m_142</td>\n",
       "      <td>p_37</td>\n",
       "      <td>جریان بازی</td>\n",
       "      <td>پای راست</td>\n",
       "      <td>8.23</td>\n",
       "      <td>26.43</td>\n",
       "      <td>2</td>\n",
       "      <td>0</td>\n",
       "      <td>متوسط</td>\n",
       "      <td>72</td>\n",
       "      <td>17</td>\n",
       "      <td>مهار توسط دروازه بان</td>\n",
       "      <td>27.681723</td>\n",
       "      <td>0</td>\n",
       "    </tr>\n",
       "  </tbody>\n",
       "</table>\n",
       "<p>8925 rows × 14 columns</p>\n",
       "</div>"
      ],
      "text/plain": [
       "     matchId playerId          playType  bodyPart      x      y  \\\n",
       "0       m_91    p_103        جریان بازی  پای راست  13.47 -11.22   \n",
       "1       m_17     p_16        جریان بازی    پای چپ   9.48  14.22   \n",
       "2      m_111     p_88  ضربه آزاد مستقیم    پای چپ  29.43  -1.25   \n",
       "3      m_142     p_87        جریان بازی  پای راست  26.93   1.00   \n",
       "4      m_117      p_9        جریان بازی  پای راست  10.72   5.24   \n",
       "...      ...      ...               ...       ...    ...    ...   \n",
       "8920    m_57    p_115        جریان بازی        سر   6.48   3.99   \n",
       "8921    m_59     p_76        جریان بازی  پای راست  21.45  -8.73   \n",
       "8922    m_55    p_150        جریان بازی    پای چپ  11.97   3.24   \n",
       "8923    m_33    p_130        جریان بازی  پای راست   6.48  -6.98   \n",
       "8924   m_142     p_37        جریان بازی  پای راست   8.23  26.43   \n",
       "\n",
       "      interveningOpponents  interveningTeammates interferenceOnShooter  \\\n",
       "0                        1                     0                 متوسط   \n",
       "1                        3                     0                 متوسط   \n",
       "2                        6                     2                    کم   \n",
       "3                        4                     1                 متوسط   \n",
       "4                        2                     0                 متوسط   \n",
       "...                    ...                   ...                   ...   \n",
       "8920                     3                     0                  زیاد   \n",
       "8921                     4                     1                 متوسط   \n",
       "8922                     3                     0                 متوسط   \n",
       "8923                     1                     0                  زیاد   \n",
       "8924                     2                     0                 متوسط   \n",
       "\n",
       "      minute  second               outcome   distance  target  \n",
       "0         70       9                   گُل  17.530810       1  \n",
       "1         55       4  مهار توسط دروازه بان  17.090313       0  \n",
       "2         86      31  مهار توسط دروازه بان  29.456534       0  \n",
       "3         77       2    موقعیت از دست رفته  26.948560       0  \n",
       "4         76      46                   گُل  11.932141       1  \n",
       "...      ...     ...                   ...        ...     ...  \n",
       "8920      69      50    موقعیت از دست رفته   7.609895       0  \n",
       "8921      15      53        برخورد به دفاع  23.158484       0  \n",
       "8922      84      34    موقعیت از دست رفته  12.400746       0  \n",
       "8923       4      39    موقعیت از دست رفته   9.524222       0  \n",
       "8924      72      17  مهار توسط دروازه بان  27.681723       0  \n",
       "\n",
       "[8925 rows x 14 columns]"
      ]
     },
     "execution_count": 348,
     "metadata": {},
     "output_type": "execute_result"
    }
   ],
   "source": [
    "df"
   ]
  },
  {
   "cell_type": "markdown",
   "id": "38a2c5dd",
   "metadata": {},
   "source": [
    "- now lets check our data frame columns"
   ]
  },
  {
   "cell_type": "code",
   "execution_count": 349,
   "id": "91a9af9d",
   "metadata": {
    "scrolled": true
   },
   "outputs": [
    {
     "data": {
      "text/plain": [
       "Index(['matchId', 'playerId', 'playType', 'bodyPart', 'x', 'y',\n",
       "       'interveningOpponents', 'interveningTeammates', 'interferenceOnShooter',\n",
       "       'minute', 'second', 'outcome', 'distance', 'target'],\n",
       "      dtype='object')"
      ]
     },
     "execution_count": 349,
     "metadata": {},
     "output_type": "execute_result"
    }
   ],
   "source": [
    "df.columns"
   ]
  },
  {
   "cell_type": "code",
   "execution_count": 350,
   "id": "a99f5794",
   "metadata": {},
   "outputs": [
    {
     "data": {
      "text/plain": [
       "playType\n",
       "جریان بازی          0.113273\n",
       "ضربه آزاد مستقیم    0.079137\n",
       "مستقیم از کرنر      0.500000\n",
       "پنالتی              0.769841\n",
       "Name: target, dtype: float64"
      ]
     },
     "execution_count": 350,
     "metadata": {},
     "output_type": "execute_result"
    }
   ],
   "source": [
    "get_datails = lambda x: df.groupby(x).mean()['target']\n",
    "get_datails('playType')\n"
   ]
  },
  {
   "cell_type": "markdown",
   "id": "80957787",
   "metadata": {},
   "source": [
    "- here we see that the type of playType can be effective on the scoring goal. so we had its categories to our columns"
   ]
  },
  {
   "cell_type": "code",
   "execution_count": 351,
   "id": "8babb66d",
   "metadata": {},
   "outputs": [
    {
     "data": {
      "text/html": [
       "<div>\n",
       "<style scoped>\n",
       "    .dataframe tbody tr th:only-of-type {\n",
       "        vertical-align: middle;\n",
       "    }\n",
       "\n",
       "    .dataframe tbody tr th {\n",
       "        vertical-align: top;\n",
       "    }\n",
       "\n",
       "    .dataframe thead th {\n",
       "        text-align: right;\n",
       "    }\n",
       "</style>\n",
       "<table border=\"1\" class=\"dataframe\">\n",
       "  <thead>\n",
       "    <tr style=\"text-align: right;\">\n",
       "      <th></th>\n",
       "      <th>matchId</th>\n",
       "      <th>playerId</th>\n",
       "      <th>playType</th>\n",
       "      <th>bodyPart</th>\n",
       "      <th>x</th>\n",
       "      <th>y</th>\n",
       "      <th>interveningOpponents</th>\n",
       "      <th>interveningTeammates</th>\n",
       "      <th>interferenceOnShooter</th>\n",
       "      <th>minute</th>\n",
       "      <th>second</th>\n",
       "      <th>outcome</th>\n",
       "      <th>distance</th>\n",
       "      <th>target</th>\n",
       "      <th>جریان بازی</th>\n",
       "      <th>ضربه آزاد مستقیم</th>\n",
       "      <th>مستقیم از کرنر</th>\n",
       "      <th>پنالتی</th>\n",
       "    </tr>\n",
       "  </thead>\n",
       "  <tbody>\n",
       "    <tr>\n",
       "      <th>0</th>\n",
       "      <td>m_91</td>\n",
       "      <td>p_103</td>\n",
       "      <td>جریان بازی</td>\n",
       "      <td>پای راست</td>\n",
       "      <td>13.47</td>\n",
       "      <td>-11.22</td>\n",
       "      <td>1</td>\n",
       "      <td>0</td>\n",
       "      <td>متوسط</td>\n",
       "      <td>70</td>\n",
       "      <td>9</td>\n",
       "      <td>گُل</td>\n",
       "      <td>17.530810</td>\n",
       "      <td>1</td>\n",
       "      <td>1</td>\n",
       "      <td>0</td>\n",
       "      <td>0</td>\n",
       "      <td>0</td>\n",
       "    </tr>\n",
       "    <tr>\n",
       "      <th>1</th>\n",
       "      <td>m_17</td>\n",
       "      <td>p_16</td>\n",
       "      <td>جریان بازی</td>\n",
       "      <td>پای چپ</td>\n",
       "      <td>9.48</td>\n",
       "      <td>14.22</td>\n",
       "      <td>3</td>\n",
       "      <td>0</td>\n",
       "      <td>متوسط</td>\n",
       "      <td>55</td>\n",
       "      <td>4</td>\n",
       "      <td>مهار توسط دروازه بان</td>\n",
       "      <td>17.090313</td>\n",
       "      <td>0</td>\n",
       "      <td>1</td>\n",
       "      <td>0</td>\n",
       "      <td>0</td>\n",
       "      <td>0</td>\n",
       "    </tr>\n",
       "    <tr>\n",
       "      <th>2</th>\n",
       "      <td>m_111</td>\n",
       "      <td>p_88</td>\n",
       "      <td>ضربه آزاد مستقیم</td>\n",
       "      <td>پای چپ</td>\n",
       "      <td>29.43</td>\n",
       "      <td>-1.25</td>\n",
       "      <td>6</td>\n",
       "      <td>2</td>\n",
       "      <td>کم</td>\n",
       "      <td>86</td>\n",
       "      <td>31</td>\n",
       "      <td>مهار توسط دروازه بان</td>\n",
       "      <td>29.456534</td>\n",
       "      <td>0</td>\n",
       "      <td>0</td>\n",
       "      <td>1</td>\n",
       "      <td>0</td>\n",
       "      <td>0</td>\n",
       "    </tr>\n",
       "    <tr>\n",
       "      <th>3</th>\n",
       "      <td>m_142</td>\n",
       "      <td>p_87</td>\n",
       "      <td>جریان بازی</td>\n",
       "      <td>پای راست</td>\n",
       "      <td>26.93</td>\n",
       "      <td>1.00</td>\n",
       "      <td>4</td>\n",
       "      <td>1</td>\n",
       "      <td>متوسط</td>\n",
       "      <td>77</td>\n",
       "      <td>2</td>\n",
       "      <td>موقعیت از دست رفته</td>\n",
       "      <td>26.948560</td>\n",
       "      <td>0</td>\n",
       "      <td>1</td>\n",
       "      <td>0</td>\n",
       "      <td>0</td>\n",
       "      <td>0</td>\n",
       "    </tr>\n",
       "    <tr>\n",
       "      <th>4</th>\n",
       "      <td>m_117</td>\n",
       "      <td>p_9</td>\n",
       "      <td>جریان بازی</td>\n",
       "      <td>پای راست</td>\n",
       "      <td>10.72</td>\n",
       "      <td>5.24</td>\n",
       "      <td>2</td>\n",
       "      <td>0</td>\n",
       "      <td>متوسط</td>\n",
       "      <td>76</td>\n",
       "      <td>46</td>\n",
       "      <td>گُل</td>\n",
       "      <td>11.932141</td>\n",
       "      <td>1</td>\n",
       "      <td>1</td>\n",
       "      <td>0</td>\n",
       "      <td>0</td>\n",
       "      <td>0</td>\n",
       "    </tr>\n",
       "  </tbody>\n",
       "</table>\n",
       "</div>"
      ],
      "text/plain": [
       "  matchId playerId          playType  bodyPart      x      y  \\\n",
       "0    m_91    p_103        جریان بازی  پای راست  13.47 -11.22   \n",
       "1    m_17     p_16        جریان بازی    پای چپ   9.48  14.22   \n",
       "2   m_111     p_88  ضربه آزاد مستقیم    پای چپ  29.43  -1.25   \n",
       "3   m_142     p_87        جریان بازی  پای راست  26.93   1.00   \n",
       "4   m_117      p_9        جریان بازی  پای راست  10.72   5.24   \n",
       "\n",
       "   interveningOpponents  interveningTeammates interferenceOnShooter  minute  \\\n",
       "0                     1                     0                 متوسط      70   \n",
       "1                     3                     0                 متوسط      55   \n",
       "2                     6                     2                    کم      86   \n",
       "3                     4                     1                 متوسط      77   \n",
       "4                     2                     0                 متوسط      76   \n",
       "\n",
       "   second               outcome   distance  target  جریان بازی  \\\n",
       "0       9                   گُل  17.530810       1           1   \n",
       "1       4  مهار توسط دروازه بان  17.090313       0           1   \n",
       "2      31  مهار توسط دروازه بان  29.456534       0           0   \n",
       "3       2    موقعیت از دست رفته  26.948560       0           1   \n",
       "4      46                   گُل  11.932141       1           1   \n",
       "\n",
       "   ضربه آزاد مستقیم  مستقیم از کرنر  پنالتی  \n",
       "0                 0               0       0  \n",
       "1                 0               0       0  \n",
       "2                 1               0       0  \n",
       "3                 0               0       0  \n",
       "4                 0               0       0  "
      ]
     },
     "execution_count": 351,
     "metadata": {},
     "output_type": "execute_result"
    }
   ],
   "source": [
    "\n",
    "tmp = pd.get_dummies(df.playType)\n",
    "df1 = pd.merge(df,tmp,left_index= True,right_index= True)\n",
    "df1.head()"
   ]
  },
  {
   "cell_type": "code",
   "execution_count": 352,
   "id": "857d0f8d",
   "metadata": {},
   "outputs": [
    {
     "data": {
      "text/plain": [
       "bodyPart\n",
       "سایر        0.237288\n",
       "سر          0.119472\n",
       "پای راست    0.116524\n",
       "پای چپ      0.126683\n",
       "Name: target, dtype: float64"
      ]
     },
     "execution_count": 352,
     "metadata": {},
     "output_type": "execute_result"
    }
   ],
   "source": [
    "get_datails('bodyPart')"
   ]
  },
  {
   "cell_type": "markdown",
   "id": "82d2a0f8",
   "metadata": {},
   "source": [
    "- again we need to do same operation on bodyPart's categories"
   ]
  },
  {
   "cell_type": "code",
   "execution_count": 353,
   "id": "864e3a99",
   "metadata": {},
   "outputs": [],
   "source": [
    "other = 'سایر'\n",
    "df['bodyPart_1'] = 0\n",
    "df.loc[df.bodyPart == other,'bodyPart_1'] =  1"
   ]
  },
  {
   "cell_type": "markdown",
   "id": "b89ec163",
   "metadata": {},
   "source": [
    "- now lets check other columns and their plots"
   ]
  },
  {
   "cell_type": "code",
   "execution_count": 354,
   "id": "e6a5fb73",
   "metadata": {},
   "outputs": [
    {
     "data": {
      "text/plain": [
       "<AxesSubplot:xlabel='interveningOpponents'>"
      ]
     },
     "execution_count": 354,
     "metadata": {},
     "output_type": "execute_result"
    },
    {
     "data": {
      "image/png": "[encoded data removed]",
      "text/plain": [
       "<Figure size 432x288 with 1 Axes>"
      ]
     },
     "metadata": {
      "needs_background": "light"
     },
     "output_type": "display_data"
    }
   ],
   "source": [
    "get_datails('interveningOpponents').plot()"
   ]
  },
  {
   "cell_type": "code",
   "execution_count": 355,
   "id": "65d8a895",
   "metadata": {},
   "outputs": [
    {
     "data": {
      "text/plain": [
       "<AxesSubplot:xlabel='interveningTeammates'>"
      ]
     },
     "execution_count": 355,
     "metadata": {},
     "output_type": "execute_result"
    },
    {
     "data": {
      "image/png": "[encoded data removed]",
      "text/plain": [
       "<Figure size 432x288 with 1 Axes>"
      ]
     },
     "metadata": {
      "needs_background": "light"
     },
     "output_type": "display_data"
    }
   ],
   "source": [
    "get_datails('interveningTeammates').plot()"
   ]
  },
  {
   "cell_type": "code",
   "execution_count": 356,
   "id": "7e3172f9",
   "metadata": {},
   "outputs": [
    {
     "data": {
      "text/plain": [
       "<AxesSubplot:xlabel='interferenceOnShooter'>"
      ]
     },
     "execution_count": 356,
     "metadata": {},
     "output_type": "execute_result"
    },
    {
     "data": {
      "image/png": "[encoded data removed]",
      "text/plain": [
       "<Figure size 432x288 with 1 Axes>"
      ]
     },
     "metadata": {
      "needs_background": "light"
     },
     "output_type": "display_data"
    }
   ],
   "source": [
    "get_datails('interferenceOnShooter').plot()"
   ]
  },
  {
   "cell_type": "code",
   "execution_count": 357,
   "id": "81bbd149",
   "metadata": {},
   "outputs": [
    {
     "data": {
      "text/plain": [
       "minute\n",
       "98    0.000000\n",
       "77    0.052632\n",
       "71    0.060976\n",
       "95    0.066667\n",
       "50    0.073770\n",
       "        ...   \n",
       "37    0.175258\n",
       "73    0.177083\n",
       "96    0.250000\n",
       "27    0.276316\n",
       "97    0.500000\n",
       "Name: target, Length: 99, dtype: float64"
      ]
     },
     "execution_count": 357,
     "metadata": {},
     "output_type": "execute_result"
    }
   ],
   "source": [
    "get_datails('minute').sort_values()"
   ]
  },
  {
   "cell_type": "code",
   "execution_count": 358,
   "id": "07248283",
   "metadata": {},
   "outputs": [
    {
     "data": {
      "text/plain": [
       "<AxesSubplot:xlabel='minute'>"
      ]
     },
     "execution_count": 358,
     "metadata": {},
     "output_type": "execute_result"
    },
    {
     "data": {
      "image/png": "[encoded data removed]",
      "text/plain": [
       "<Figure size 432x288 with 1 Axes>"
      ]
     },
     "metadata": {
      "needs_background": "light"
     },
     "output_type": "display_data"
    }
   ],
   "source": [
    "get_datails('minute').plot()"
   ]
  },
  {
   "cell_type": "markdown",
   "id": "dd21f77c",
   "metadata": {},
   "source": [
    " - if check the plot above we can figure out that minutes can not be functional for our prediction\n",
    " - in main_columns we collect all factors that can be effective on our prediction"
   ]
  },
  {
   "cell_type": "code",
   "execution_count": 359,
   "id": "c9a31b4b",
   "metadata": {},
   "outputs": [],
   "source": [
    "main_columns = ['interveningOpponents','distance','distance','interveningTeammates','ضربه آزاد مستقیم', 'مستقیم از کرنر','پنالتی', 'زیاد', 'متوسط', 'کم','جریان بازی']"
   ]
  },
  {
   "cell_type": "markdown",
   "id": "24bd5d0d",
   "metadata": {},
   "source": [
    "- now we add 'interferenceOnShooter' parameters to our data frame comulmns"
   ]
  },
  {
   "cell_type": "code",
   "execution_count": 360,
   "id": "fa6b83d6",
   "metadata": {},
   "outputs": [],
   "source": [
    "tmp = pd.get_dummies(df1.interferenceOnShooter)\n",
    "df1 = df1.merge(tmp,left_index=True,right_index=True)"
   ]
  },
  {
   "cell_type": "code",
   "execution_count": 361,
   "id": "082d19c1",
   "metadata": {},
   "outputs": [
    {
     "data": {
      "text/plain": [
       "Index(['matchId', 'playerId', 'playType', 'bodyPart', 'x', 'y',\n",
       "       'interveningOpponents', 'interveningTeammates', 'interferenceOnShooter',\n",
       "       'minute', 'second', 'outcome', 'distance', 'target', 'جریان بازی',\n",
       "       'ضربه آزاد مستقیم', 'مستقیم از کرنر', 'پنالتی', 'زیاد', 'متوسط', 'کم'],\n",
       "      dtype='object')"
      ]
     },
     "execution_count": 361,
     "metadata": {},
     "output_type": "execute_result"
    }
   ],
   "source": [
    "df1.columns"
   ]
  },
  {
   "cell_type": "markdown",
   "id": "5c4a0ea4",
   "metadata": {},
   "source": [
    "- in the last step we add result of each shoot and our factors to two variable "
   ]
  },
  {
   "cell_type": "code",
   "execution_count": 381,
   "id": "4fd3ab2c",
   "metadata": {},
   "outputs": [],
   "source": [
    "x = df1[main_columns]\n",
    "y = df['target']"
   ]
  },
  {
   "cell_type": "markdown",
   "id": "8b794ce9",
   "metadata": {},
   "source": [
    "- let's create our models"
   ]
  },
  {
   "cell_type": "code",
   "execution_count": 382,
   "id": "44242a76",
   "metadata": {},
   "outputs": [],
   "source": [
    "from sklearn.linear_model import SGDClassifier\n",
    "from sklearn.svm import SVC\n",
    "from sklearn.ensemble import RandomForestClassifier\n",
    "from sklearn.model_selection import train_test_split\n",
    "from sklearn.metrics import accuracy_score\n",
    "\n",
    "models = {\n",
    "    \"SGD\" : SGDClassifier(),\n",
    "    'SGD_log' : SGDClassifier(loss= 'log'),\n",
    "    'SVC' : SVC(),\n",
    "    'RandomForest': RandomForestClassifier()\n",
    "}"
   ]
  },
  {
   "cell_type": "code",
   "execution_count": 383,
   "id": "ec79132b",
   "metadata": {},
   "outputs": [],
   "source": [
    "x_train,x_test, y_train, y_test = train_test_split(x,y,test_size=0.33)"
   ]
  },
  {
   "cell_type": "code",
   "execution_count": 384,
   "id": "3cd1973c",
   "metadata": {},
   "outputs": [],
   "source": [
    "def test_model (model): \n",
    "    model.fit(x_train,y_train)\n",
    "    y_predict = model.predict(x_test)\n",
    "    return accuracy_score(y_predict,y_test)"
   ]
  },
  {
   "cell_type": "code",
   "execution_count": 385,
   "id": "44455372",
   "metadata": {},
   "outputs": [
    {
     "name": "stdout",
     "output_type": "stream",
     "text": [
      "SGD: 0.89\n",
      "SGD_log: 0.88\n",
      "SVC: 0.88\n",
      "RandomForest: 0.85\n"
     ]
    }
   ],
   "source": [
    "for model_name, model in models.items():\n",
    "    ac = test_model(model)\n",
    "    print(f'{model_name}: {ac:.2f}')"
   ]
  },
  {
   "cell_type": "code",
   "execution_count": 386,
   "id": "9e33cac7",
   "metadata": {},
   "outputs": [],
   "source": [
    "test = pd.read_csv('test.csv')"
   ]
  },
  {
   "cell_type": "markdown",
   "id": "04473582",
   "metadata": {},
   "source": [
    "- we create a function that convert all input data to a standard data that to feed our models"
   ]
  },
  {
   "cell_type": "code",
   "execution_count": 387,
   "id": "aea3310b",
   "metadata": {},
   "outputs": [],
   "source": [
    "def convert_data(df):\n",
    "    df = df.copy()\n",
    "    get_distance = lambda row: dist((0,0),(row.x,row.y))\n",
    "    other = 'سایر'\n",
    "    df['bodyPart_1'] = 0\n",
    "    df.loc[df.bodyPart == other,'bodyPart_1'] =  1\n",
    "    \n",
    "    tmp = pd.get_dummies(df.interferenceOnShooter)\n",
    "    df = df.merge(tmp,left_index=True,right_index=True)\n",
    "    \n",
    "    tmp = pd.get_dummies(df.playType)\n",
    "    df = pd.merge(df,tmp,left_index= True,right_index= True)\n",
    "    \n",
    "    \n",
    "    df['distance'] = df.apply(get_distance , axis=1)\n",
    "    main_columns = ['interveningOpponents','distance','interveningTeammates','bodyPart_1','ضربه آزاد مستقیم', 'مستقیم از کرنر','پنالتی', 'زیاد', 'متوسط', 'کم','جریان بازی']\n",
    "    \n",
    "    return df[main_columns]\n",
    "\n"
   ]
  },
  {
   "cell_type": "code",
   "execution_count": 388,
   "id": "c25d1113",
   "metadata": {},
   "outputs": [
    {
     "data": {
      "text/html": [
       "<div>\n",
       "<style scoped>\n",
       "    .dataframe tbody tr th:only-of-type {\n",
       "        vertical-align: middle;\n",
       "    }\n",
       "\n",
       "    .dataframe tbody tr th {\n",
       "        vertical-align: top;\n",
       "    }\n",
       "\n",
       "    .dataframe thead th {\n",
       "        text-align: right;\n",
       "    }\n",
       "</style>\n",
       "<table border=\"1\" class=\"dataframe\">\n",
       "  <thead>\n",
       "    <tr style=\"text-align: right;\">\n",
       "      <th></th>\n",
       "      <th>interveningOpponents</th>\n",
       "      <th>distance</th>\n",
       "      <th>interveningTeammates</th>\n",
       "      <th>bodyPart_1</th>\n",
       "      <th>ضربه آزاد مستقیم</th>\n",
       "      <th>مستقیم از کرنر</th>\n",
       "      <th>پنالتی</th>\n",
       "      <th>زیاد</th>\n",
       "      <th>متوسط</th>\n",
       "      <th>کم</th>\n",
       "      <th>جریان بازی</th>\n",
       "    </tr>\n",
       "  </thead>\n",
       "  <tbody>\n",
       "    <tr>\n",
       "      <th>0</th>\n",
       "      <td>1</td>\n",
       "      <td>8.880343</td>\n",
       "      <td>0</td>\n",
       "      <td>0</td>\n",
       "      <td>0</td>\n",
       "      <td>0</td>\n",
       "      <td>0</td>\n",
       "      <td>0</td>\n",
       "      <td>0</td>\n",
       "      <td>1</td>\n",
       "      <td>1</td>\n",
       "    </tr>\n",
       "    <tr>\n",
       "      <th>1</th>\n",
       "      <td>2</td>\n",
       "      <td>27.448222</td>\n",
       "      <td>1</td>\n",
       "      <td>0</td>\n",
       "      <td>0</td>\n",
       "      <td>0</td>\n",
       "      <td>0</td>\n",
       "      <td>0</td>\n",
       "      <td>0</td>\n",
       "      <td>1</td>\n",
       "      <td>1</td>\n",
       "    </tr>\n",
       "    <tr>\n",
       "      <th>2</th>\n",
       "      <td>4</td>\n",
       "      <td>13.507069</td>\n",
       "      <td>0</td>\n",
       "      <td>0</td>\n",
       "      <td>0</td>\n",
       "      <td>0</td>\n",
       "      <td>0</td>\n",
       "      <td>0</td>\n",
       "      <td>1</td>\n",
       "      <td>0</td>\n",
       "      <td>1</td>\n",
       "    </tr>\n",
       "    <tr>\n",
       "      <th>3</th>\n",
       "      <td>1</td>\n",
       "      <td>13.053191</td>\n",
       "      <td>0</td>\n",
       "      <td>0</td>\n",
       "      <td>0</td>\n",
       "      <td>0</td>\n",
       "      <td>0</td>\n",
       "      <td>1</td>\n",
       "      <td>0</td>\n",
       "      <td>0</td>\n",
       "      <td>1</td>\n",
       "    </tr>\n",
       "    <tr>\n",
       "      <th>4</th>\n",
       "      <td>2</td>\n",
       "      <td>13.668533</td>\n",
       "      <td>1</td>\n",
       "      <td>0</td>\n",
       "      <td>0</td>\n",
       "      <td>0</td>\n",
       "      <td>0</td>\n",
       "      <td>0</td>\n",
       "      <td>0</td>\n",
       "      <td>1</td>\n",
       "      <td>1</td>\n",
       "    </tr>\n",
       "    <tr>\n",
       "      <th>...</th>\n",
       "      <td>...</td>\n",
       "      <td>...</td>\n",
       "      <td>...</td>\n",
       "      <td>...</td>\n",
       "      <td>...</td>\n",
       "      <td>...</td>\n",
       "      <td>...</td>\n",
       "      <td>...</td>\n",
       "      <td>...</td>\n",
       "      <td>...</td>\n",
       "      <td>...</td>\n",
       "    </tr>\n",
       "    <tr>\n",
       "      <th>1995</th>\n",
       "      <td>1</td>\n",
       "      <td>14.414361</td>\n",
       "      <td>0</td>\n",
       "      <td>0</td>\n",
       "      <td>0</td>\n",
       "      <td>0</td>\n",
       "      <td>0</td>\n",
       "      <td>0</td>\n",
       "      <td>0</td>\n",
       "      <td>1</td>\n",
       "      <td>1</td>\n",
       "    </tr>\n",
       "    <tr>\n",
       "      <th>1996</th>\n",
       "      <td>2</td>\n",
       "      <td>14.064096</td>\n",
       "      <td>0</td>\n",
       "      <td>0</td>\n",
       "      <td>0</td>\n",
       "      <td>0</td>\n",
       "      <td>0</td>\n",
       "      <td>0</td>\n",
       "      <td>0</td>\n",
       "      <td>1</td>\n",
       "      <td>1</td>\n",
       "    </tr>\n",
       "    <tr>\n",
       "      <th>1997</th>\n",
       "      <td>2</td>\n",
       "      <td>11.537911</td>\n",
       "      <td>0</td>\n",
       "      <td>0</td>\n",
       "      <td>0</td>\n",
       "      <td>0</td>\n",
       "      <td>0</td>\n",
       "      <td>0</td>\n",
       "      <td>1</td>\n",
       "      <td>0</td>\n",
       "      <td>1</td>\n",
       "    </tr>\n",
       "    <tr>\n",
       "      <th>1998</th>\n",
       "      <td>4</td>\n",
       "      <td>23.596326</td>\n",
       "      <td>0</td>\n",
       "      <td>0</td>\n",
       "      <td>0</td>\n",
       "      <td>0</td>\n",
       "      <td>0</td>\n",
       "      <td>0</td>\n",
       "      <td>1</td>\n",
       "      <td>0</td>\n",
       "      <td>1</td>\n",
       "    </tr>\n",
       "    <tr>\n",
       "      <th>1999</th>\n",
       "      <td>3</td>\n",
       "      <td>22.695508</td>\n",
       "      <td>0</td>\n",
       "      <td>0</td>\n",
       "      <td>0</td>\n",
       "      <td>0</td>\n",
       "      <td>0</td>\n",
       "      <td>0</td>\n",
       "      <td>1</td>\n",
       "      <td>0</td>\n",
       "      <td>1</td>\n",
       "    </tr>\n",
       "  </tbody>\n",
       "</table>\n",
       "<p>2000 rows × 11 columns</p>\n",
       "</div>"
      ],
      "text/plain": [
       "      interveningOpponents   distance  interveningTeammates  bodyPart_1  \\\n",
       "0                        1   8.880343                     0           0   \n",
       "1                        2  27.448222                     1           0   \n",
       "2                        4  13.507069                     0           0   \n",
       "3                        1  13.053191                     0           0   \n",
       "4                        2  13.668533                     1           0   \n",
       "...                    ...        ...                   ...         ...   \n",
       "1995                     1  14.414361                     0           0   \n",
       "1996                     2  14.064096                     0           0   \n",
       "1997                     2  11.537911                     0           0   \n",
       "1998                     4  23.596326                     0           0   \n",
       "1999                     3  22.695508                     0           0   \n",
       "\n",
       "      ضربه آزاد مستقیم  مستقیم از کرنر  پنالتی  زیاد  متوسط  کم  جریان بازی  \n",
       "0                    0               0       0     0      0   1           1  \n",
       "1                    0               0       0     0      0   1           1  \n",
       "2                    0               0       0     0      1   0           1  \n",
       "3                    0               0       0     1      0   0           1  \n",
       "4                    0               0       0     0      0   1           1  \n",
       "...                ...             ...     ...   ...    ...  ..         ...  \n",
       "1995                 0               0       0     0      0   1           1  \n",
       "1996                 0               0       0     0      0   1           1  \n",
       "1997                 0               0       0     0      1   0           1  \n",
       "1998                 0               0       0     0      1   0           1  \n",
       "1999                 0               0       0     0      1   0           1  \n",
       "\n",
       "[2000 rows x 11 columns]"
      ]
     },
     "execution_count": 388,
     "metadata": {},
     "output_type": "execute_result"
    }
   ],
   "source": [
    "convert_data(test)"
   ]
  },
  {
   "cell_type": "markdown",
   "id": "c2306977",
   "metadata": {},
   "source": [
    "- now let's check howmany shoots wil be scored as a goal"
   ]
  },
  {
   "cell_type": "code",
   "execution_count": 389,
   "id": "fbec77b0",
   "metadata": {},
   "outputs": [
    {
     "data": {
      "text/plain": [
       "1313"
      ]
     },
     "execution_count": 389,
     "metadata": {},
     "output_type": "execute_result"
    }
   ],
   "source": [
    "df_test = convert_data(test)\n",
    "model.predict(df_test).sum()"
   ]
  },
  {
   "cell_type": "code",
   "execution_count": null,
   "id": "3d76f4e0",
   "metadata": {},
   "outputs": [],
   "source": []
  },
  {
   "cell_type": "code",
   "execution_count": null,
   "id": "0c6a0c68",
   "metadata": {},
   "outputs": [],
   "source": []
  },
  {
   "cell_type": "code",
   "execution_count": null,
   "id": "58238ad9",
   "metadata": {},
   "outputs": [],
   "source": []
  }
 ],
 "metadata": {
  "kernelspec": {
   "display_name": "Python 3 (ipykernel)",
   "language": "python",
   "name": "python3"
  },
  "language_info": {
   "codemirror_mode": {
    "name": "ipython",
    "version": 3
   },
   "file_extension": ".py",
   "mimetype": "text/x-python",
   "name": "python",
   "nbconvert_exporter": "python",
   "pygments_lexer": "ipython3",
   "version": "3.9.5"
  }
 },
 "nbformat": 4,
 "nbformat_minor": 5
}
